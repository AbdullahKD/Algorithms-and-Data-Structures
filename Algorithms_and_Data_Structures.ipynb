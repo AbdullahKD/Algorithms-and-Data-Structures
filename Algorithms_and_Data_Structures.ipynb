{
  "nbformat": 4,
  "nbformat_minor": 0,
  "metadata": {
    "colab": {
      "provenance": [],
      "authorship_tag": "ABX9TyPDdWMf6l1sFgBcqpYlkrXE",
      "include_colab_link": true
    },
    "kernelspec": {
      "name": "python3",
      "display_name": "Python 3"
    },
    "language_info": {
      "name": "python"
    }
  },
  "cells": [
    {
      "cell_type": "markdown",
      "metadata": {
        "id": "view-in-github",
        "colab_type": "text"
      },
      "source": [
        "<a href=\"https://colab.research.google.com/github/AbdullahKD/Algorithms-and-Data-Structures/blob/main/Algorithms_and_Data_Structures.ipynb\" target=\"_parent\"><img src=\"https://colab.research.google.com/assets/colab-badge.svg\" alt=\"Open In Colab\"/></a>"
      ]
    },
    {
      "cell_type": "code",
      "source": [
        "import numpy as np\n",
        "import ipywidgets as widgets\n",
        "from IPython.display import display, clear_output\n",
        "\n",
        "# Constants for players\n",
        "PLAYER_X = 'X'\n",
        "PLAYER_O = 'O'\n",
        "EMPTY = ' '\n",
        "\n",
        "class TicTacToe:\n",
        "    def __init__(self):\n",
        "        self.board = np.full((3, 3), EMPTY)\n",
        "        self.current_player = PLAYER_X\n",
        "        self.buttons = [[None for _ in range(3)] for _ in range(3)]\n",
        "        self.output = widgets.Output()\n",
        "        self.create_buttons()\n",
        "        self.display_board()\n",
        "\n",
        "    def create_buttons(self):\n",
        "        for row in range(3):\n",
        "            for col in range(3):\n",
        "                button = widgets.Button(description=EMPTY, layout=widgets.Layout(width='100px', height='100px'))\n",
        "                button.on_click(lambda b, r=row, c=col: self.player_move(r, c))\n",
        "                self.buttons[row][col] = button\n",
        "\n",
        "    def display_board(self):\n",
        "        clear_output(wait=True)\n",
        "        display(self.output)\n",
        "        with self.output:\n",
        "            for row in range(3):\n",
        "                row_widgets = [self.buttons[row][col] for col in range(3)]\n",
        "                display(widgets.HBox(row_widgets))\n",
        "\n",
        "def player_move(self, row, col):\n",
        "        if self.board[row][col] == EMPTY:\n",
        "            self.board[row][col] = PLAYER_X\n",
        "            self.buttons[row][col].description = PLAYER_X\n",
        "            if self.check_winner(PLAYER_X):\n",
        "                self.highlight_winner(PLAYER_X)\n",
        "                return\n",
        "            elif self.is_draw():\n",
        "                self.display_message(\"It's a draw!\")\n",
        "                return\n",
        "            self.current_player = PLAYER_O\n",
        "            self.computer_move()\n",
        "\n",
        "def computer_move(self):\n",
        "        best_score = -np.inf\n",
        "        best_move = (-1, -1)\n",
        "\n",
        "        for row in range(3):\n",
        "            for col in range(3):\n",
        "                if self.board[row][col] == EMPTY:\n",
        "                    self.board[row][col] = PLAYER_O\n",
        "                    score = self.minimax(self.board, 0, False)\n",
        "                    self.board[row][col] = EMPTY\n",
        "                    if score > best_score:\n",
        "                        best_score = score\n",
        "                        best_move = (row, col)\n",
        "\n",
        "        if best_move != (-1, -1):\n",
        "            row, col = best_move\n",
        "            self.board[row][col] = PLAYER_O\n",
        "            self.buttons[row][col].description = PLAYER_O\n",
        "            if self.check_winner(PLAYER_O):\n",
        "                self.highlight_winner(PLAYER_O)\n",
        "                return\n",
        "            elif self.is_draw():\n",
        "                self.display_message(\"It's a draw!\")\n",
        "                return\n",
        "            self.current_player = PLAYER_X\n",
        "\n",
        "\n",
        ""
      ],
      "metadata": {
        "id": "c_MCXkD1LDKU"
      },
      "execution_count": 2,
      "outputs": []
    }
  ]
}