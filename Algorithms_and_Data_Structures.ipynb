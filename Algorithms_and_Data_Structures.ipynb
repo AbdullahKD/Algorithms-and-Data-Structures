{
  "nbformat": 4,
  "nbformat_minor": 0,
  "metadata": {
    "colab": {
      "provenance": [],
      "authorship_tag": "ABX9TyMgdVB/oQIVcp6LYQ9bXqif",
      "include_colab_link": true
    },
    "kernelspec": {
      "name": "python3",
      "display_name": "Python 3"
    },
    "language_info": {
      "name": "python"
    }
  },
  "cells": [
    {
      "cell_type": "markdown",
      "metadata": {
        "id": "view-in-github",
        "colab_type": "text"
      },
      "source": [
        "<a href=\"https://colab.research.google.com/github/AbdullahKD/Algorithms-and-Data-Structures/blob/main/Algorithms_and_Data_Structures.ipynb\" target=\"_parent\"><img src=\"https://colab.research.google.com/assets/colab-badge.svg\" alt=\"Open In Colab\"/></a>"
      ]
    },
    {
      "cell_type": "code",
      "source": [
        "import numpy as np\n",
        "import ipywidgets as widgets\n",
        "from IPython.display import display, clear_output\n",
        "\n",
        "# Constants for players\n",
        "PLAYER_X = 'X'\n",
        "PLAYER_O = 'O'\n",
        "EMPTY = ' '\n",
        "\n",
        "class TicTacToe:\n",
        "    def __init__(self):\n",
        "        self.board = np.full((3, 3), EMPTY)\n",
        "        self.current_player = PLAYER_X\n",
        "        self.buttons = [[None for _ in range(3)] for _ in range(3)]\n",
        "        self.output = widgets.Output()\n",
        "        self.create_buttons()\n",
        "        self.display_board()\n",
        "\n",
        "    def create_buttons(self):\n",
        "        for row in range(3):\n",
        "            for col in range(3):\n",
        "                button = widgets.Button(description=EMPTY, layout=widgets.Layout(width='100px', height='100px'))\n",
        "                button.on_click(lambda b, r=row, c=col: self.player_move(r, c))\n",
        "                self.buttons[row][col] = button\n",
        "\n",
        "    def display_board(self):\n",
        "        clear_output(wait=True)\n",
        "        display(self.output)\n",
        "        with self.output:\n",
        "            for row in range(3):\n",
        "                row_widgets = [self.buttons[row][col] for col in range(3)]\n",
        "                display(widgets.HBox(row_widgets))\n",
        "\n",
        ""
      ],
      "metadata": {
        "id": "c_MCXkD1LDKU"
      },
      "execution_count": 56,
      "outputs": []
    }
  ]
}